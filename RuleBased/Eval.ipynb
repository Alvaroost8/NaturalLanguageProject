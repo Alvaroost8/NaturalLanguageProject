{
 "cells": [
  {
   "cell_type": "code",
   "execution_count": 1,
   "metadata": {},
   "outputs": [],
   "source": [
    "import json\n",
    "from sklearn.metrics import precision_score, recall_score, f1_score"
   ]
  },
  {
   "cell_type": "code",
   "execution_count": 2,
   "metadata": {},
   "outputs": [],
   "source": [
    "class EvalOfficial:\n",
    "    def __init__(self):\n",
    "        pass\n",
    "    \n",
    "    def process(self, data):\n",
    "        final_chars = []\n",
    "        for i in range(len(data)):\n",
    "            text = data[i]['text']\n",
    "            chars = list(text)\n",
    "            for value in data[i]['result']:\n",
    "                index = (value['value']['start'], value['value']['end'])\n",
    "                label = value['value']['labels'][0]\n",
    "                for j in range(index[0], index[1]-1):\n",
    "                    chars[j] = label\n",
    "            final_chars.extend(chars)\n",
    "        return final_chars\n",
    "\n",
    "    def calc(self, pred, groundtruth):\n",
    "        pred = self.process(pred)\n",
    "        gt = self.process(groundtruth)\n",
    "        precision = precision_score(gt, pred, average='micro')\n",
    "        recall = recall_score(gt, pred, average='micro')\n",
    "        f1 = f1_score(gt, pred, average='micro')\n",
    "        return precision, recall, f1"
   ]
  },
  {
   "cell_type": "code",
   "execution_count": null,
   "metadata": {},
   "outputs": [],
   "source": [
    "f=open(\"res_test_Simplification.json\")\n",
    "res_test_Simplification=json.load(f)\n",
    "\n",
    "f=open(\"res_training_Simplification.json\")\n",
    "res_training_Simplification=json.load(f)\n",
    "\n",
    "f=open(\"res_test_Rules.json\")\n",
    "res_test_Rules=json.load(f)\n",
    "\n",
    "f=open(\"res_training_Rules.json\")\n",
    "res_training_Rules=json.load(f)\n",
    "\n",
    "f=open(\"test.json\")\n",
    "test_set=json.load(f)\n",
    "\n",
    "f=open(\"training.json\")\n",
    "training_set=json.load(f)\n",
    "\n",
    "l_test=[]\n",
    "for i in range(len(test_set)):\n",
    "    l_test.append({\"text\":test_set[i][\"data\"][\"text\"], \"result\":test_set[i][\"predictions\"][0][\"result\"]})\n",
    "\n",
    "l_training=[]\n",
    "for i in range(len(training_set)):\n",
    "    l_training.append({\"text\":training_set[i][\"data\"][\"text\"], \"result\":training_set[i][\"predictions\"][0][\"result\"]})"
   ]
  },
  {
   "cell_type": "code",
   "execution_count": 23,
   "metadata": {},
   "outputs": [
    {
     "name": "stdout",
     "output_type": "stream",
     "text": [
      "0.8727626369046241\n",
      "0.8727626369046241\n",
      "0.8727626369046241\n"
     ]
    }
   ],
   "source": [
    "metric = EvalOfficial()\n",
    "p, r, f1 = metric.calc(res_training_Rules, l_training)\n",
    "print(p)\n",
    "print(r)\n",
    "print(f1)"
   ]
  }
 ],
 "metadata": {
  "kernelspec": {
   "display_name": "base",
   "language": "python",
   "name": "python3"
  },
  "language_info": {
   "codemirror_mode": {
    "name": "ipython",
    "version": 3
   },
   "file_extension": ".py",
   "mimetype": "text/x-python",
   "name": "python",
   "nbconvert_exporter": "python",
   "pygments_lexer": "ipython3",
   "version": "3.11.5"
  }
 },
 "nbformat": 4,
 "nbformat_minor": 2
}
