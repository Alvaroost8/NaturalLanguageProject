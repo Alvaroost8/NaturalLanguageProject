{
 "cells": [
  {
   "cell_type": "markdown",
   "metadata": {},
   "source": [
    "# Notebook Description\n",
    "\n",
    "## Purpose\n",
    "This notebook implements the evaluation phase of a deep neural network model designed to identify negation in text. It includes loading test data, defining the model architecture, and evaluating the model's performance on the test set.\n",
    "\n",
    "## Notebook Content\n",
    "\n",
    "### 1. Dependency Installation\n",
    "Imports necessary libraries for the project, including:\n",
    "- `torch` for handling the neural network.\n",
    "- `numpy` for numerical operations.\n",
    "- `json` for loading and saving data.\n",
    "- `sklearn` for evaluation metrics and confusion matrix visualization.\n",
    "\n",
    "### 2. Data Loading\n",
    "Loads test data from JSON files. The data includes word embeddings, casing information, part-of-speech (POS) tags, and labels for the test set.\n",
    "\n",
    "### 3. Model Definition\n",
    "Defines the neural network model architecture for negation detection, ensuring consistency with the model used during training.\n",
    "\n",
    "### 4. Model Loading\n",
    "Loads the trained model parameters to ensure the same model used during training is evaluated.\n",
    "\n",
    "### 5. Evaluation\n",
    "Evaluates the model on the test data by:\n",
    "- Running the model on the test dataset to get predictions.\n",
    "- Computing the confusion matrix and overall accuracy.\n",
    "- Calculating accuracy for each label.\n",
    "- Displaying the confusion matrix using a heatmap for better visualization.\n",
    "\n",
    "### 6. Result Visualization\n",
    "Visualizes the results, including the confusion matrix and accuracy metrics, to understand the model's performance on the test set.\n",
    "\n",
    "---"
   ]
  },
  {
   "cell_type": "code",
   "execution_count": 1,
   "metadata": {},
   "outputs": [],
   "source": [
    "import torch \n",
    "import torch.nn as nn\n",
    "import numpy as np\n",
    "from torch.utils.data import Dataset, DataLoader\n",
    "import torch.nn.functional as F\n",
    "import json \n"
   ]
  },
  {
   "cell_type": "code",
   "execution_count": 2,
   "metadata": {},
   "outputs": [],
   "source": [
    "def load_json(file_path):\n",
    "    with open(file_path, 'r') as f:\n",
    "        data = json.load(f)\n",
    "    return data\n",
    "\n",
    "def save_json(data, file_path):\n",
    "    with open(file_path, 'w') as f:\n",
    "        json.dump(data, f)"
   ]
  },
  {
   "cell_type": "code",
   "execution_count": 3,
   "metadata": {},
   "outputs": [],
   "source": [
    "test_casing_onehot = load_json('test_casing_onehot.json')\n",
    "test_pos_onehot = load_json('test_pos_onehot.json')\n",
    "y_test = load_json('y_test_numerical.json')\n",
    "w_fast_vectors_test_reduced = load_json('w_fast_vectors_test_reduced.json')\n",
    "test_word_embedding_reduced = load_json('test_word_embeddings_reduced.json')"
   ]
  },
  {
   "cell_type": "code",
   "execution_count": 4,
   "metadata": {},
   "outputs": [
    {
     "name": "stdout",
     "output_type": "stream",
     "text": [
      "3211\n"
     ]
    }
   ],
   "source": [
    "print(len(test_word_embedding_reduced))"
   ]
  },
  {
   "cell_type": "code",
   "execution_count": 5,
   "metadata": {},
   "outputs": [],
   "source": [
    "class NegationModel(nn.Module):\n",
    "    def __init__(self, word_embedding_dim, pos_embedding_dim, char_embedding_dim, casing_dim, lstm_dim, num_filters, kernel_size, conv_dropout_rate=0.5, lstm_dropout_rate=0.5, lstm_recurrent_dropout_rate=0.25):\n",
    "        super(NegationModel, self).__init__()\n",
    "        self.word_embedding_dim = word_embedding_dim\n",
    "        self.pos_embedding_dim = pos_embedding_dim\n",
    "        self.char_embedding_dim = char_embedding_dim\n",
    "        self.casing_dim = casing_dim\n",
    "        \n",
    "        self.conv1d = nn.Conv1d(in_channels=char_embedding_dim, out_channels=num_filters, kernel_size=kernel_size)\n",
    "        self.conv_dropout = nn.Dropout(conv_dropout_rate)\n",
    "        self.max_pool = nn.MaxPool1d(kernel_size=3)\n",
    "        \n",
    "        self.bi_lstm = nn.LSTM(input_size=word_embedding_dim + pos_embedding_dim + num_filters + casing_dim,\n",
    "                               hidden_size=lstm_dim, batch_first=True, bidirectional=True,\n",
    "                               dropout=lstm_recurrent_dropout_rate)\n",
    "        \n",
    "        self.lstm_dropout = nn.Dropout(lstm_dropout_rate)\n",
    "        self.fc = nn.Linear(2 * lstm_dim, 6)\n",
    "\n",
    "        self.fc_pos = nn.Linear(pos_embedding_dim, pos_embedding_dim)\n",
    "        self.fc_casing = nn.Linear(casing_dim, casing_dim)\n",
    "\n",
    "    def forward(self, x):\n",
    "        char_embeddings, word_embeddings, pos_embeddings, casing_info = x\n",
    "        \n",
    "        char_embeddings = char_embeddings.permute(0, 2, 1)\n",
    "        char_features = self.conv1d(char_embeddings)\n",
    "        char_features = self.conv_dropout(char_features)  # Dropout after Conv1D\n",
    "        char_features = self.max_pool(char_features)\n",
    "        char_features = char_features.view(char_features.size(0), -1, char_features.size(2))\n",
    "        \n",
    "        pos_embeddings = self.fc_pos(pos_embeddings)\n",
    "        casing_info = self.fc_casing(casing_info)\n",
    "\n",
    "        combined_features = torch.cat((word_embeddings, pos_embeddings, char_features, casing_info), dim=2)\n",
    "        \n",
    "        lstm_out, _ = self.bi_lstm(combined_features)\n",
    "        lstm_out = self.lstm_dropout(lstm_out)  # Dropout after LSTM output\n",
    "        \n",
    "        output = self.fc(lstm_out)\n",
    "        \n",
    "        return output"
   ]
  },
  {
   "cell_type": "code",
   "execution_count": 6,
   "metadata": {},
   "outputs": [
    {
     "data": {
      "text/plain": [
       "NegationModel(\n",
       "  (conv1d): Conv1d(100, 377, kernel_size=(3,), stride=(1,))\n",
       "  (conv_dropout): Dropout(p=0.5, inplace=False)\n",
       "  (max_pool): MaxPool1d(kernel_size=3, stride=3, padding=0, dilation=1, ceil_mode=False)\n",
       "  (bi_lstm): LSTM(425, 150, num_layers=3, batch_first=True, dropout=0.25, bidirectional=True)\n",
       "  (lstm_dropout): Dropout(p=0.5, inplace=False)\n",
       "  (fc): Linear(in_features=300, out_features=6, bias=True)\n",
       "  (fc_pos): Linear(in_features=17, out_features=17, bias=True)\n",
       "  (fc_casing): Linear(in_features=8, out_features=8, bias=True)\n",
       ")"
      ]
     },
     "execution_count": 6,
     "metadata": {},
     "output_type": "execute_result"
    }
   ],
   "source": [
    "# Cargar el modelo guardado\n",
    "model = NegationModel(word_embedding_dim=100, pos_embedding_dim=17, char_embedding_dim=100, casing_dim=8, lstm_dim=150, num_filters=377, kernel_size=3)\n",
    "checkpoint = torch.load('best_model.pth')\n",
    "\n",
    "# Extraer el state_dict del diccionario y cargarlo en el modelo\n",
    "model.load_state_dict(checkpoint['model_state_dict'])\n",
    "model.eval()"
   ]
  },
  {
   "cell_type": "code",
   "execution_count": 7,
   "metadata": {},
   "outputs": [],
   "source": [
    "\n",
    "class CustomDataset(Dataset):\n",
    "    def __init__(self, w_fast, w_vector, pos, casing, labels):\n",
    "        self.w_fast = torch.tensor(w_fast,dtype=torch.float32)\n",
    "        self.w_vector = torch.tensor(w_vector, dtype=torch.float32)\n",
    "        self.pos = torch.tensor(pos, dtype=torch.float32) \n",
    "        self.casing = torch.tensor(casing, dtype=torch.float32)\n",
    "        self.labels = torch.tensor(labels,dtype = torch.float32)\n",
    "\n",
    "    def __len__(self):\n",
    "        return len((self.w_fast))\n",
    "\n",
    "    def __getitem__(self, idx):\n",
    "        return (self.w_fast[idx], self.w_vector[idx], self.pos[idx], self.casing[idx]), self.labels[idx]\n",
    "\n",
    "\n",
    "# Crear dataset y dataloader\n",
    "\n",
    "test_dataset = CustomDataset(w_fast_vectors_test_reduced, test_word_embedding_reduced ,test_pos_onehot, test_casing_onehot, y_test)\n",
    "test_loader = DataLoader(test_dataset, batch_size=32, shuffle=False)"
   ]
  },
  {
   "cell_type": "code",
   "execution_count": 8,
   "metadata": {},
   "outputs": [
    {
     "name": "stdout",
     "output_type": "stream",
     "text": [
      "Overall Accuracy of the model on the test dataset: 90.61 %\n",
      "Accuracy for label 0: 96.99 %\n",
      "Accuracy for label 1: 43.81 %\n",
      "Accuracy for label 2: 39.12 %\n",
      "Accuracy for label 3: 1.01 %\n",
      "Accuracy for label 4: 2.12 %\n"
     ]
    },
    {
     "data": {
      "image/png": "[encoded data removed]",
      "text/plain": [
       "<Figure size 1000x700 with 2 Axes>"
      ]
     },
     "metadata": {},
     "output_type": "display_data"
    }
   ],
   "source": [
    "import torch\n",
    "import numpy as np\n",
    "from sklearn.metrics import confusion_matrix\n",
    "import matplotlib.pyplot as plt\n",
    "import seaborn as sns\n",
    "\n",
    "dict_index_tag={\"O\": 0, \"NEG\": 1, \"NSCO\": 2, \"UNC\": 3, \"USCO\": 4, \"PAD\":5}\n",
    "dict_index_tag_inverted={0:\"O\", 1:\"NEG\", 2:\"NSCO\", 3:\"UNC\", 4:\"USCO\", 5:\"PAD\"}\n",
    "\n",
    "# Inicializar listas para almacenar etiquetas y predicciones\n",
    "all_labels = []\n",
    "all_predictions = []\n",
    "\n",
    "with torch.no_grad():\n",
    "    for data in test_loader:\n",
    "        inputs, labels = data\n",
    "        outputs = model(inputs)\n",
    "\n",
    "        # Reshape outputs y labels para CrossEntropyLoss\n",
    "        outputs = outputs.view(-1, outputs.size(-1))  # (batch_size * sequence_length, num_classes)\n",
    "        labels = labels.view(-1, labels.size(-1))  # (batch_size * sequence_length, num_classes)\n",
    "\n",
    "        # Convertir etiquetas one-hot a índices de clase\n",
    "        labels = torch.argmax(labels, dim=1)\n",
    "\n",
    "        # Predicción de clases\n",
    "        _, predicted = torch.max(outputs, 1)\n",
    "\n",
    "        # Filtrar etiquetas de padding\n",
    "        valid_indices = labels != 5\n",
    "        filtered_labels = labels[valid_indices]\n",
    "        filtered_predictions = predicted[valid_indices]\n",
    "\n",
    "        # Almacenar etiquetas y predicciones\n",
    "        all_labels.extend(filtered_labels.cpu().numpy())\n",
    "        all_predictions.extend(filtered_predictions.cpu().numpy())\n",
    "\n",
    "# Convertir listas a arrays de numpy\n",
    "all_labels = np.array(all_labels)\n",
    "all_predictions = np.array(all_predictions)\n",
    "\n",
    "# Calcular la matriz de confusión\n",
    "conf_matrix = confusion_matrix(all_labels, all_predictions, labels=[0, 1, 2, 3, 4])\n",
    "\n",
    "# Calcular la precisión general y por etiqueta\n",
    "overall_accuracy = np.sum(conf_matrix.diagonal()) / np.sum(conf_matrix)\n",
    "label_accuracy = conf_matrix.diagonal() / conf_matrix.sum(axis=1)\n",
    "\n",
    "# Imprimir la precisión general y por etiqueta\n",
    "print('Overall Accuracy of the model on the test dataset: {:.2f} %'.format(overall_accuracy * 100))\n",
    "for label, accuracy in enumerate(label_accuracy):\n",
    "    print('Accuracy for label {}: {:.2f} %'.format(label, accuracy * 100))\n",
    "\n",
    "# Mostrar la matriz de confusión\n",
    "plt.figure(figsize=(10, 7))\n",
    "sns.heatmap(conf_matrix, annot=True, fmt='d', cmap='Blues', xticklabels=dict_index_tag_inverted.values(), yticklabels=dict_index_tag_inverted.values())\n",
    "plt.xlabel('Predicted Labels')\n",
    "plt.ylabel('True Labels')\n",
    "plt.title('Confusion Matrix')\n",
    "plt.show()\n"
   ]
  },
  {
   "cell_type": "code",
   "execution_count": 9,
   "metadata": {},
   "outputs": [
    {
     "name": "stdout",
     "output_type": "stream",
     "text": [
      "3211\n",
      "3211\n",
      "3211\n",
      "3211\n",
      "3211\n"
     ]
    }
   ],
   "source": [
    "print(len(w_fast_vectors_test_reduced))\n",
    "print(len(test_word_embedding_reduced))\n",
    "print(len(test_pos_onehot))\n",
    "print(len(test_casing_onehot))\n",
    "print(len(y_test))"
   ]
  }
 ],
 "metadata": {
  "kernelspec": {
   "display_name": "env",
   "language": "python",
   "name": "python3"
  },
  "language_info": {
   "codemirror_mode": {
    "name": "ipython",
    "version": 3
   },
   "file_extension": ".py",
   "mimetype": "text/x-python",
   "name": "python",
   "nbconvert_exporter": "python",
   "pygments_lexer": "ipython3",
   "version": "3.11.4"
  }
 },
 "nbformat": 4,
 "nbformat_minor": 2
}
